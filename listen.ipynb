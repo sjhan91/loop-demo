{
 "cells": [
  {
   "cell_type": "code",
   "execution_count": null,
   "metadata": {},
   "outputs": [],
   "source": [
    "import os\n",
    "import glob\n",
    "import pickle\n",
    "import random\n",
    "import IPython.display\n",
    "\n",
    "from loop_extraction.src.utils.remi import *\n",
    "\n",
    "%load_ext autoreload\n",
    "%autoreload 2"
   ]
  },
  {
   "cell_type": "code",
   "execution_count": null,
   "metadata": {
    "tags": []
   },
   "outputs": [],
   "source": [
    "fs = 44100.0\n",
    "rate = 44100.0\n",
    "\n",
    "path = \"./data2/meta_midi_loop/\"\n",
    "files = glob.glob(os.path.join(path, \"*\"))\n",
    "\n",
    "while True:\n",
    "    try:\n",
    "        idx = random.randint(0, 20)\n",
    "        music = random.choice(files) \n",
    "\n",
    "        music_file = music.split(\"/\")[-1] + \"_\" + str(idx) + \".pkl\"\n",
    "        music_path = os.path.join(music, music_file)\n",
    "    \n",
    "        with open(os.path.join(music_path), \"rb\") as f:\n",
    "            loop = pickle.load(f)[\"loop\"]\n",
    "            \n",
    "        break\n",
    "    except:\n",
    "        continue\n",
    "\n",
    "pm = remi2midi(loop)\n",
    "pm.remove_invalid_notes()\n",
    "# pm.write(path)\n",
    "\n",
    "IPython.display.display(IPython.display.Audio(pm.fluidsynth(fs=fs), rate=rate))"
   ]
  },
  {
   "cell_type": "code",
   "execution_count": null,
   "metadata": {},
   "outputs": [],
   "source": []
  }
 ],
 "metadata": {
  "kernelspec": {
   "display_name": "Python 3 (ipykernel)",
   "language": "python",
   "name": "python3"
  },
  "language_info": {
   "codemirror_mode": {
    "name": "ipython",
    "version": 3
   },
   "file_extension": ".py",
   "mimetype": "text/x-python",
   "name": "python",
   "nbconvert_exporter": "python",
   "pygments_lexer": "ipython3",
   "version": "3.10.12"
  },
  "vscode": {
   "interpreter": {
    "hash": "d4d1e4263499bec80672ea0156c357c1ee493ec2b1c70f0acce89fc37c4a6abe"
   }
  }
 },
 "nbformat": 4,
 "nbformat_minor": 4
}
